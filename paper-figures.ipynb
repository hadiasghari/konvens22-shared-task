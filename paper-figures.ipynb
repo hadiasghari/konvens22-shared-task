{
 "cells": [
  {
   "cell_type": "markdown",
   "id": "5be93e3b",
   "metadata": {},
   "source": [
    "# Graphs Used in the Shared Task Challenge Paper\n",
    "\n",
    "Authors: Hadi Asghari & Freya Hewett\n",
    "Date: July 2022\n",
    "\n"
   ]
  },
  {
   "cell_type": "code",
   "execution_count": 70,
   "id": "82aea0c5",
   "metadata": {},
   "outputs": [],
   "source": [
    "import csv\n",
    "import numpy as np\n",
    "import pandas as pd\n",
    "import matplotlib.pyplot as plt\n",
    "from scipy import stats"
   ]
  },
  {
   "cell_type": "code",
   "execution_count": 71,
   "id": "c0f1e9da",
   "metadata": {},
   "outputs": [
    {
     "name": "stdout",
     "output_type": "stream",
     "text": [
      "['idx', 'sentence', 'label']\n"
     ]
    }
   ],
   "source": [
    "# Load Training Data\n",
    "score = []\n",
    "sentence = []\n",
    "with open(\"data_training.csv\", 'r', encoding='ISO-8859-1') as file:\n",
    "    reader = csv.reader(file)\n",
    "    for i, row in enumerate(reader):\n",
    "        if i == 0:\n",
    "            print(row)\n",
    "            continue # skip header\n",
    "        sentence.append(row[1])\n",
    "        score.append(float(row[2]))  # 5 on detailed dataset\n",
    "        \n",
    "score = np.array(score)\n",
    "assert len(score) == len(sentence)  # sanity"
   ]
  },
  {
   "cell_type": "code",
   "execution_count": 77,
   "id": "f171a6ef",
   "metadata": {},
   "outputs": [
    {
     "name": "stdout",
     "output_type": "stream",
     "text": [
      "score range: 1.0 6.333333333\n",
      "basic baseline: 3.015705657663 1.1802792931882462\n"
     ]
    },
    {
     "data": {
      "image/png": "[encoded data removed]",
      "text/plain": [
       "<Figure size 432x288 with 1 Axes>"
      ]
     },
     "metadata": {
      "needs_background": "light"
     },
     "output_type": "display_data"
    }
   ],
   "source": [
    "# Range & Histogram\n",
    "print(\"score range:\", score.min(), score.max())\n",
    "print(\"basic baseline:\", score.mean(), score.std())\n",
    "\n",
    "fig, ax = plt.subplots(1, 1)\n",
    "ax.hist(score, bins=[1,2,3,4,5,6,7])\n",
    "ax.set_xlabel(\"MOS\")\n",
    "fig.savefig(\"fig_hist.pdf\")"
   ]
  },
  {
   "cell_type": "code",
   "execution_count": 35,
   "id": "8cfc05dd",
   "metadata": {},
   "outputs": [
    {
     "name": "stdout",
     "output_type": "stream",
     "text": [
      "1.1802792931882462\n"
     ]
    }
   ],
   "source": [
    "# Baseline RMSE\n",
    "\n",
    "def root_mean_squared_error(y_true, y_pred):\n",
    "        return np.sqrt(np.mean(np.square(y_pred - y_true)))\n",
    "    \n",
    "baseline = np.ones(len(score)) * score.mean()\n",
    "\n",
    "print(root_mean_squared_error(score, baseline))"
   ]
  },
  {
   "cell_type": "code",
   "execution_count": 86,
   "id": "c66ab486",
   "metadata": {},
   "outputs": [
    {
     "name": "stdout",
     "output_type": "stream",
     "text": [
      "R: (0.8493523220744107, 1.232087997985623e-59) \n",
      "\n",
      "DIFF X-F: ID\n",
      "2124   -1.628149\n",
      "2187   -1.565224\n",
      "2070   -1.411102\n",
      "dtype: float64 \n",
      " ID\n",
      "2053    0.729828\n",
      "2112    0.777076\n",
      "2075    1.062819\n",
      "dtype: float64\n",
      "avg diff: -0.2548087053406571 19\n"
     ]
    },
    {
     "data": {
      "image/png": "[encoded data removed]",
      "text/plain": [
       "<Figure size 288x288 with 1 Axes>"
      ]
     },
     "metadata": {
      "needs_background": "light"
     },
     "output_type": "display_data"
    }
   ],
   "source": [
    "# Compare predictions of transformer-vs-feature models!\n",
    "\n",
    "# load & merge\n",
    "d_x = pd.read_csv(\"answer-xlmr.csv\", index_col=\"ID\")\n",
    "d_f = pd.read_csv(\"answer-feat.csv\", index_col=\"ID\")\n",
    "ds = d_x.join(d_f, lsuffix=\"_x\", rsuffix=\"_f\")\n",
    "#print(d_x.head(1)['MOS'], d_f.head(1)['MOS'], ds.head(1), \"\\n\")\n",
    "\n",
    "# plot\n",
    "fig, ax = plt.subplots(1, 1, figsize=(4,4))\n",
    "ax.scatter(ds.MOS_x, ds.MOS_f)\n",
    "ax.set_xlim(0.5, 6.5)\n",
    "ax.set_xlabel(\"Transformer prediction\")\n",
    "ax.set_ylim(0.5, 6.5)\n",
    "ax.set_ylabel(\"Feature-based prediction\")\n",
    "fig.savefig(\"fig_results_scatter.pdf\")\n",
    "print(\"R:\", stats.pearsonr(ds.MOS_x, ds.MOS_f), \"\\n\")  # 0.85 concordance\n",
    "\n",
    "# differences\n",
    "t = ds['MOS_x'] - ds['MOS_f']\n",
    "t = t.sort_values()\n",
    "print(\"DIFF X-F:\", t.head(3), \"\\n\", t.tail(3))  # so both negative and positive\n",
    "print(\"avg diff:\", t.mean(), sum(abs(t)>1))"
   ]
  },
  {
   "cell_type": "code",
   "execution_count": 68,
   "id": "764e2d7a",
   "metadata": {},
   "outputs": [
    {
     "data": {
      "text/plain": [
       "ID\n",
       "2124     True\n",
       "2187     True\n",
       "2070     True\n",
       "2115     True\n",
       "2031     True\n",
       "        ...  \n",
       "2017     True\n",
       "2087     True\n",
       "2053     True\n",
       "2112     True\n",
       "2075    False\n",
       "Length: 210, dtype: bool"
      ]
     },
     "execution_count": 68,
     "metadata": {},
     "output_type": "execute_result"
    }
   ],
   "source": [
    "t<1"
   ]
  }
 ],
 "metadata": {
  "kernelspec": {
   "display_name": "Python 3 (ipykernel)",
   "language": "python",
   "name": "python3"
  },
  "language_info": {
   "codemirror_mode": {
    "name": "ipython",
    "version": 3
   },
   "file_extension": ".py",
   "mimetype": "text/x-python",
   "name": "python",
   "nbconvert_exporter": "python",
   "pygments_lexer": "ipython3",
   "version": "3.10.4"
  }
 },
 "nbformat": 4,
 "nbformat_minor": 5
}
