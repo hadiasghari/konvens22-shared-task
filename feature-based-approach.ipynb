{
 "cells": [
  {
   "cell_type": "markdown",
   "id": "cb7e1899",
   "metadata": {},
   "source": [
    "## Imports"
   ]
  },
  {
   "cell_type": "code",
   "execution_count": 1,
   "id": "b84e3ea9",
   "metadata": {},
   "outputs": [],
   "source": [
    "import pickle\n",
    "import tseval.feature_extraction\n",
    "from scipy.stats import spearmanr\n",
    "#import math\n",
    "\n",
    "import numpy as np\n",
    "\n",
    "import spacy\n",
    "mod = spacy.load(\"de_core_news_sm\")\n",
    "\n",
    "from sklearn.model_selection import train_test_split\n",
    "import tensorflow as tf\n",
    "from tensorflow import keras\n",
    "from tensorflow.keras import layers\n",
    "from tensorflow.keras.layers import TextVectorization\n",
    "from keras.callbacks import ModelCheckpoint\n",
    "\n",
    "import csv"
   ]
  },
  {
   "cell_type": "code",
   "execution_count": 2,
   "id": "531abd6f",
   "metadata": {},
   "outputs": [],
   "source": [
    "from sklearn.linear_model import LinearRegression\n",
    "from sklearn.metrics import mean_squared_error\n",
    "from sklearn.feature_selection import RFE"
   ]
  },
  {
   "cell_type": "markdown",
   "id": "e057708d",
   "metadata": {},
   "source": [
    "## Linear regression"
   ]
  },
  {
   "cell_type": "code",
   "execution_count": 3,
   "id": "0cc0096b",
   "metadata": {},
   "outputs": [],
   "source": [
    "# Load dataset, create features\n",
    "\n",
    "score = []\n",
    "sentence = []\n",
    "with open(\"data_training.csv\", 'r') as file:\n",
    "    reader = csv.reader(file)\n",
    "    for row in reader:\n",
    "        sentence.append(row[1])\n",
    "        score.append(row[2])"
   ]
  },
  {
   "cell_type": "code",
   "execution_count": 4,
   "id": "7208b4e7",
   "metadata": {},
   "outputs": [],
   "source": [
    "scores = [float(s) for s in score[1:]]"
   ]
  },
  {
   "cell_type": "code",
   "execution_count": 5,
   "id": "68f2401a",
   "metadata": {},
   "outputs": [],
   "source": [
    "def get_feature_values(spacy_model, simple_sent, chosen_functions=None, lang=\"de\", only_names=False):\n",
    "    # chosen_functions is list of indices of functions that should be used to calculate features\n",
    "    \n",
    "    feature_list = list()\n",
    "    all_sentence_functions = tseval.feature_extraction.get_sentence_simplification_feature_extractors()   + tseval.feature_extraction.get_sentence_feature_extractors()\n",
    "    #all_pair_functions = tseval.feature_extraction.get_sentence_pair_simplification_feature_extractors()   + tseval.feature_extraction.get_sentence_pair_feature_extractors()\n",
    "    if type(chosen_functions) == 'list':\n",
    "        all_sentence_functions = [all_sentence_functions[i] for i in chosen_functions]\n",
    "    \n",
    "    if only_names:\n",
    "        names_list = list()\n",
    "        for func in all_sentence_functions:\n",
    "            # print(func.__name__)\n",
    "            names_list.append(func.__name__+\"_complex\")\n",
    "            names_list.append(func.__name__+\"_simple\")\n",
    "        for func in all_pair_functions:\n",
    "            names_list.append(func.__name__+\"_paired\")\n",
    "        return names_list\n",
    "\n",
    "    simple_sent = spacy_model(simple_sent.lstrip().rstrip())\n",
    "    for func in all_sentence_functions:\n",
    "        #feature_list.append(str(func(complex_sent, lang)))\n",
    "        feature_list.append(str(func(simple_sent, lang)))\n",
    "    #for func in all_pair_functions:\n",
    "        # print(func.__name__)\n",
    "        #feature_list.append(str(func(complex_sent, simple_sent, lang)))\n",
    "    # print(feature_list, )\n",
    "    \n",
    "    \n",
    "    \n",
    "    feature_list = convert_features(feature_list)\n",
    "    \n",
    "    return feature_list"
   ]
  },
  {
   "cell_type": "code",
   "execution_count": 6,
   "id": "15c93bcb",
   "metadata": {},
   "outputs": [],
   "source": [
    "def convert_features(ft_list):\n",
    "    conv = list()\n",
    "    for g in ft_list:\n",
    "\n",
    "        if g == 'True':\n",
    "            conv.append(0.9)\n",
    "        elif g == 'False':\n",
    "            conv.append(0.1)\n",
    "        #elif math.isnan(g) == True:\n",
    "        elif g == 'nan':\n",
    "            conv.append(0.0)\n",
    "        else:\n",
    "            conv.append(float(g))\n",
    "        #converted_feats.append(conv)\n",
    "        \n",
    "    return conv"
   ]
  },
  {
   "cell_type": "code",
   "execution_count": 7,
   "id": "a0b7a435",
   "metadata": {},
   "outputs": [
    {
     "name": "stderr",
     "output_type": "stream",
     "text": [
      "/Users/freya.hewett/miniforge3/lib/python3.9/site-packages/numpy/core/fromnumeric.py:3440: RuntimeWarning: Mean of empty slice.\n",
      "  return _methods._mean(a, axis=axis, dtype=dtype,\n",
      "/Users/freya.hewett/miniforge3/lib/python3.9/site-packages/numpy/core/_methods.py:189: RuntimeWarning: invalid value encountered in double_scalars\n",
      "  ret = ret.dtype.type(ret / rcount)\n"
     ]
    },
    {
     "name": "stdout",
     "output_type": "stream",
     "text": [
      "Loading de FastText embeddings...\n",
      "Done.\n"
     ]
    }
   ],
   "source": [
    "best_feats = list()\n",
    "for sent in sentence[1:]:\n",
    "    best_feats.append(get_feature_values(mod, sent))"
   ]
  },
  {
   "cell_type": "code",
   "execution_count": 8,
   "id": "525e35ef",
   "metadata": {},
   "outputs": [],
   "source": [
    "fts = np.array(best_feats)"
   ]
  },
  {
   "cell_type": "code",
   "execution_count": 9,
   "id": "93aadc4d",
   "metadata": {},
   "outputs": [],
   "source": [
    "estimator = LinearRegression()\n",
    "selector = RFE(estimator, n_features_to_select=34, step=1)\n",
    "selector = selector.fit(fts, scores)\n",
    "ranks = selector.ranking_\n",
    "chosen_features = np.where(ranks<2)"
   ]
  },
  {
   "cell_type": "code",
   "execution_count": 10,
   "id": "f509ff8d",
   "metadata": {},
   "outputs": [],
   "source": [
    "all_sentence_functions = tseval.feature_extraction.get_sentence_simplification_feature_extractors()   + tseval.feature_extraction.get_sentence_feature_extractors()"
   ]
  },
  {
   "cell_type": "code",
   "execution_count": 15,
   "id": "78c15690",
   "metadata": {
    "scrolled": true
   },
   "outputs": [
    {
     "name": "stdout",
     "output_type": "stream",
     "text": [
      "get_type_token_ratio\n",
      "get_ratio_of_function_words\n",
      "get_ratio_of_coordinating_clauses\n",
      "get_ratio_of_subordinate_clauses\n",
      "get_ratio_prepositional_phrases\n",
      "get_ratio_relative_phrases\n",
      "get_ratio_clauses\n",
      "get_ratio_named_entities\n",
      "check_if_head_is_noun\n",
      "check_if_one_child_of_root_is_subject\n",
      "check_passive_voice\n",
      "is_non_projective\n",
      "get_ratio_of_nouns\n",
      "get_ratio_of_verbs\n",
      "get_ratio_of_adjectives\n",
      "get_ratio_of_adpositions\n",
      "get_ratio_of_adverbs\n",
      "get_ratio_of_auxiliary_verbs\n",
      "get_ratio_of_conjunctions\n",
      "get_ratio_of_determiners\n",
      "get_ratio_of_numerals\n",
      "get_ratio_of_particles\n",
      "get_ratio_of_pronouns\n",
      "get_ratio_of_punctuation\n",
      "count_words\n",
      "count_sentences\n",
      "count_syllables_in_sentence\n",
      "count_words_per_sentence\n",
      "count_syllables_per_sentence\n",
      "count_characters_per_word\n",
      "count_syllables_per_word\n",
      "max_pos_in_freq_table\n",
      "average_pos_in_freq_table\n",
      "sentence_fkgl\n"
     ]
    }
   ],
   "source": [
    "# These are the features\n",
    "feat_names = list()\n",
    "\n",
    "for n in list(chosen_features[0]):\n",
    "    #print(n)\n",
    "    print(str(all_sentence_functions[n]).split(' ')[1])\n",
    "    feat_names.append(str(all_sentence_functions[n]).split(' ')[1])"
   ]
  },
  {
   "cell_type": "code",
   "execution_count": 12,
   "id": "b175fc96",
   "metadata": {},
   "outputs": [
    {
     "name": "stdout",
     "output_type": "stream",
     "text": [
      "0.7009478824655395\n"
     ]
    }
   ],
   "source": [
    "X_train, X_test, y_train, y_test = train_test_split(fts[:,chosen_features[0]], scores, test_size=0.2, random_state=42, shuffle=True)\n",
    "reg = LinearRegression().fit(X_train, y_train)\n",
    "preds = reg.predict(X_test)\n",
    "print(mean_squared_error(y_test, preds, squared=False))"
   ]
  },
  {
   "cell_type": "markdown",
   "id": "02c76cb1",
   "metadata": {},
   "source": [
    "## Best features"
   ]
  },
  {
   "cell_type": "code",
   "execution_count": 13,
   "id": "fbc767e3",
   "metadata": {},
   "outputs": [
    {
     "name": "stdout",
     "output_type": "stream",
     "text": [
      "model score on training data: 0.6874388151306339\n",
      "model score on testing data: 0.6842628528820357\n"
     ]
    }
   ],
   "source": [
    "# Get best features\n",
    "from sklearn.pipeline import make_pipeline\n",
    "from sklearn.preprocessing import StandardScaler\n",
    "\n",
    "model = make_pipeline(StandardScaler(), LinearRegression())\n",
    "\n",
    "model.fit(X_train, y_train)"
   ]
  },
  {
   "cell_type": "code",
   "execution_count": 17,
   "id": "ef320a2c",
   "metadata": {},
   "outputs": [
    {
     "data": {
      "text/plain": [
       "array([-0.07256279,  0.07227218,  0.24627829, -0.20046258, -0.00651179,\n",
       "        0.08803189, -0.03064914, -0.13728341, -0.00283254,  0.04796443,\n",
       "        0.03888378,  0.03128823,  0.05582192,  0.01005928,  0.15229072,\n",
       "        0.22736639,  0.16415245,  0.01139531,  0.15309674,  0.2243266 ,\n",
       "        0.03335174,  0.06017315,  0.13143554,  0.22439079, -0.37001634,\n",
       "        0.00921485,  1.35485203,  0.55831363, -0.59829988,  0.39198389,\n",
       "       -0.08846154,  0.15496593,  0.27157909, -0.41492367])"
      ]
     },
     "execution_count": 17,
     "metadata": {},
     "output_type": "execute_result"
    }
   ],
   "source": [
    "model[1].coef_"
   ]
  },
  {
   "cell_type": "code",
   "execution_count": 22,
   "id": "a2b5946c",
   "metadata": {},
   "outputs": [
    {
     "data": {
      "image/png": "[encoded data removed]",
      "text/plain": [
       "<Figure size 1440x720 with 1 Axes>"
      ]
     },
     "metadata": {
      "needs_background": "light"
     },
     "output_type": "display_data"
    }
   ],
   "source": [
    "import matplotlib.pyplot as plt\n",
    "\n",
    "plt.figure(figsize=(20,10))\n",
    "plt.barh(feat_names, model[1].coef_)\n",
    "plt.axvline(x=0, color='.5')\n",
    "plt.subplots_adjust(left=.3)"
   ]
  }
 ],
 "metadata": {
  "kernelspec": {
   "display_name": "Python 3 (ipykernel)",
   "language": "python",
   "name": "python3"
  },
  "language_info": {
   "codemirror_mode": {
    "name": "ipython",
    "version": 3
   },
   "file_extension": ".py",
   "mimetype": "text/x-python",
   "name": "python",
   "nbconvert_exporter": "python",
   "pygments_lexer": "ipython3",
   "version": "3.9.10"
  },
  "toc": {
   "base_numbering": 1,
   "nav_menu": {},
   "number_sections": true,
   "sideBar": true,
   "skip_h1_title": false,
   "title_cell": "Table of Contents",
   "title_sidebar": "Contents",
   "toc_cell": false,
   "toc_position": {},
   "toc_section_display": true,
   "toc_window_display": false
  }
 },
 "nbformat": 4,
 "nbformat_minor": 5
}
