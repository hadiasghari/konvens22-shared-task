{
 "cells": [
  {
   "cell_type": "code",
   "execution_count": null,
   "id": "a340fb4f",
   "metadata": {},
   "outputs": [],
   "source": [
    "import numpy as np\n",
    "import csv"
   ]
  },
  {
   "cell_type": "code",
   "execution_count": null,
   "id": "91c0d53d",
   "metadata": {},
   "outputs": [],
   "source": [
    "score_lr, score_v3, sentids = list(), list(), list()\n",
    "\n",
    "with open(\"answer-feat.csv\", 'r') as file:\n",
    "    reader = csv.reader(file)\n",
    "    for row in reader:\n",
    "        sentids.append(row[0])\n",
    "        score_lr.append(row[1])\n",
    "        \n",
    "with open(\"answer-xlmr.csv\", 'r') as file:\n",
    "    reader = csv.reader(file)\n",
    "    for row in reader:\n",
    "        #ids.append(row[1])\n",
    "        score_v3.append(row[1])"
   ]
  },
  {
   "cell_type": "code",
   "execution_count": null,
   "id": "1a8c4794",
   "metadata": {},
   "outputs": [],
   "source": [
    "score_lr = [float(h) for h in score_lr[1:]]\n",
    "score_v3 = [float(a) for a in score_v3[1:]]\n",
    "scores_lr = np.expand_dims(np.array(score_lr), axis=1)\n",
    "scores_v3 = np.expand_dims(np.array(score_v3), axis=1)\n",
    "scores_ = np.concatenate((scores_lr, scores_v3), axis = 1)\n",
    "avg = np.average(scores_, axis=1, weights=[0.7,0.3])"
   ]
  },
  {
   "cell_type": "code",
   "execution_count": null,
   "id": "2b72692d",
   "metadata": {},
   "outputs": [],
   "source": [
    "with open(\"ensemble-answer.csv\", 'w') as ofile:\n",
    "    print(\"ID,MOS\", file=ofile)\n",
    "    for m,i in enumerate(sentids[1:]):\n",
    "        print(str(i)+ ','+str(avg[m]), file=ofile)"
   ]
  }
 ],
 "metadata": {
  "kernelspec": {
   "display_name": "Python 3 (ipykernel)",
   "language": "python",
   "name": "python3"
  },
  "language_info": {
   "codemirror_mode": {
    "name": "ipython",
    "version": 3
   },
   "file_extension": ".py",
   "mimetype": "text/x-python",
   "name": "python",
   "nbconvert_exporter": "python",
   "pygments_lexer": "ipython3",
   "version": "3.9.10"
  },
  "toc": {
   "base_numbering": 1,
   "nav_menu": {},
   "number_sections": true,
   "sideBar": true,
   "skip_h1_title": false,
   "title_cell": "Table of Contents",
   "title_sidebar": "Contents",
   "toc_cell": false,
   "toc_position": {},
   "toc_section_display": true,
   "toc_window_display": false
  }
 },
 "nbformat": 4,
 "nbformat_minor": 5
}
